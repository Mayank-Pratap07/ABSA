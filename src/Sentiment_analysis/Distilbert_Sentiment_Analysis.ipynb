{
 "cells": [
  {
   "cell_type": "code",
   "execution_count": 1,
   "metadata": {},
   "outputs": [],
   "source": [
    "import pandas as pd\n",
    "import torch\n",
    "from transformers import DistilBertForSequenceClassification, Trainer, TrainingArguments, DistilBertTokenizer"
   ]
  },
  {
   "cell_type": "code",
   "execution_count": 2,
   "metadata": {},
   "outputs": [],
   "source": [
    "# the English comments dataset\n",
    "file_path = 'C:/Boardgames_ABSA/data/processed/english_boardgames_comments.csv'\n",
    "english_comments_df = pd.read_csv(file_path)"
   ]
  },
  {
   "cell_type": "code",
   "execution_count": 4,
   "metadata": {},
   "outputs": [],
   "source": [
    "model_2 = DistilBertForSequenceClassification.from_pretrained('C:/Boardgames_ABSA/models/distilbert_model')\n",
    "tokenizer_2 = DistilBertTokenizer.from_pretrained('C:/Boardgames_ABSA/models/distilbert_model')"
   ]
  },
  {
   "cell_type": "code",
   "execution_count": 5,
   "metadata": {},
   "outputs": [
    {
     "data": {
      "text/plain": [
       "DistilBertForSequenceClassification(\n",
       "  (distilbert): DistilBertModel(\n",
       "    (embeddings): Embeddings(\n",
       "      (word_embeddings): Embedding(30522, 768, padding_idx=0)\n",
       "      (position_embeddings): Embedding(512, 768)\n",
       "      (LayerNorm): LayerNorm((768,), eps=1e-12, elementwise_affine=True)\n",
       "      (dropout): Dropout(p=0.3, inplace=False)\n",
       "    )\n",
       "    (transformer): Transformer(\n",
       "      (layer): ModuleList(\n",
       "        (0-5): 6 x TransformerBlock(\n",
       "          (attention): MultiHeadSelfAttention(\n",
       "            (dropout): Dropout(p=0.1, inplace=False)\n",
       "            (q_lin): Linear(in_features=768, out_features=768, bias=True)\n",
       "            (k_lin): Linear(in_features=768, out_features=768, bias=True)\n",
       "            (v_lin): Linear(in_features=768, out_features=768, bias=True)\n",
       "            (out_lin): Linear(in_features=768, out_features=768, bias=True)\n",
       "          )\n",
       "          (sa_layer_norm): LayerNorm((768,), eps=1e-12, elementwise_affine=True)\n",
       "          (ffn): FFN(\n",
       "            (dropout): Dropout(p=0.3, inplace=False)\n",
       "            (lin1): Linear(in_features=768, out_features=3072, bias=True)\n",
       "            (lin2): Linear(in_features=3072, out_features=768, bias=True)\n",
       "            (activation): GELUActivation()\n",
       "          )\n",
       "          (output_layer_norm): LayerNorm((768,), eps=1e-12, elementwise_affine=True)\n",
       "        )\n",
       "      )\n",
       "    )\n",
       "  )\n",
       "  (pre_classifier): Linear(in_features=768, out_features=768, bias=True)\n",
       "  (classifier): Linear(in_features=768, out_features=2, bias=True)\n",
       "  (dropout): Dropout(p=0.2, inplace=False)\n",
       ")"
      ]
     },
     "execution_count": 5,
     "metadata": {},
     "output_type": "execute_result"
    }
   ],
   "source": [
    "model_2.eval()"
   ]
  },
  {
   "cell_type": "code",
   "execution_count": 6,
   "metadata": {},
   "outputs": [],
   "source": [
    "# the sentiment analysis function with scores\n",
    "def analyze_sentiment_model_2(text):\n",
    "    inputs = tokenizer_2(text, padding=True, truncation=True, max_length=512, return_tensors='pt')\n",
    "    \n",
    "    # Move tensors to the device (GPU if available)\n",
    "    device = torch.device('cuda' if torch.cuda.is_available() else 'cpu')\n",
    "    model_2.to(device)\n",
    "    inputs = {key: val.to(device) for key, val in inputs.items()}\n",
    "    \n",
    "    # Get model predictions\n",
    "    with torch.no_grad():\n",
    "        outputs = model_2(**inputs)\n",
    "        logits = outputs.logits\n",
    "        predicted_class = torch.argmax(logits, dim=1).item()\n",
    "        score = torch.softmax(logits, dim=1).max().item()  # Calculate the score\n",
    "\n",
    "    # Define sentiment labels\n",
    "    labels = {0: 'negative', 1: 'positive'}\n",
    "    \n",
    "    return labels[predicted_class], score"
   ]
  },
  {
   "cell_type": "code",
   "execution_count": 7,
   "metadata": {},
   "outputs": [],
   "source": [
    "english_comments_df[['sentiment_model_2', 'score_model_2']] = english_comments_df['value'].apply(\n",
    "    lambda x: pd.Series(analyze_sentiment_model_2(x))\n",
    ")"
   ]
  },
  {
   "cell_type": "code",
   "execution_count": 8,
   "metadata": {},
   "outputs": [
    {
     "name": "stdout",
     "output_type": "stream",
     "text": [
      "Sentiment analysis using Model 2 completed and results saved to C:/Boardgames_ABSA/results/boardgames_sentiment_analysis_model_2.csv\n"
     ]
    }
   ],
   "source": [
    "# Save the results for Model 2 to a new CSV file\n",
    "sentiment_analysis_model_2_file = 'C:/Boardgames_ABSA/results/boardgames_sentiment_analysis_model_2.csv'\n",
    "english_comments_df.to_csv(sentiment_analysis_model_2_file, index=False)\n",
    "\n",
    "print(f\"Sentiment analysis using Model 2 completed and results saved to {sentiment_analysis_model_2_file}\")"
   ]
  },
  {
   "cell_type": "code",
   "execution_count": 9,
   "metadata": {},
   "outputs": [
    {
     "name": "stdout",
     "output_type": "stream",
     "text": [
      "\n",
      "Sample of the results:\n",
      "   boardgame_id                                              value  \\\n",
      "0        224517  SLEEVED[IMG]https://cf.geekdo-static.com/mbs/m...   \n",
      "1        224517  Great game, full controllo of your strategy th...   \n",
      "2        224517                                      Location: MSK   \n",
      "3        224517  Very clever game, enjoyable overall.  Plus poi...   \n",
      "4        224517  Brilliant!  Fits right into my wheelhouse all ...   \n",
      "5        224517  Absolutely brilliant!  I never played the orig...   \n",
      "6        224517  I prefer old school Brass or AoI. I do like th...   \n",
      "7        224517  The game itself is not interesting enough to l...   \n",
      "8        224517                               \"You can't do that.\"   \n",
      "9        224517  This is a near-perfect board game because...  ...   \n",
      "\n",
      "  sentiment_model_2  score_model_2  \n",
      "0          negative       0.518042  \n",
      "1          positive       0.997975  \n",
      "2          positive       0.565053  \n",
      "3          positive       0.993208  \n",
      "4          positive       0.998373  \n",
      "5          positive       0.998335  \n",
      "6          negative       0.959893  \n",
      "7          negative       0.999010  \n",
      "8          negative       0.566078  \n",
      "9          positive       0.998471  \n"
     ]
    }
   ],
   "source": [
    "print(\"\\nSample of the results:\")\n",
    "print(english_comments_df[['boardgame_id', 'value', 'sentiment_model_2', 'score_model_2']].head(10))"
   ]
  }
 ],
 "metadata": {
  "kernelspec": {
   "display_name": "Python 3",
   "language": "python",
   "name": "python3"
  },
  "language_info": {
   "codemirror_mode": {
    "name": "ipython",
    "version": 3
   },
   "file_extension": ".py",
   "mimetype": "text/x-python",
   "name": "python",
   "nbconvert_exporter": "python",
   "pygments_lexer": "ipython3",
   "version": "3.11.8"
  }
 },
 "nbformat": 4,
 "nbformat_minor": 2
}
